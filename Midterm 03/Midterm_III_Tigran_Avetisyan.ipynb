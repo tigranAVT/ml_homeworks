{
 "cells": [
  {
   "cell_type": "markdown",
   "metadata": {},
   "source": [
    "## Tigran Avetisyan - A09160303 - Midterm III"
   ]
  },
  {
   "cell_type": "markdown",
   "metadata": {},
   "source": [
    "### Grade - 96/100"
   ]
  },
  {
   "cell_type": "code",
   "execution_count": 1,
   "metadata": {},
   "outputs": [],
   "source": [
    "import pandas as pd\n",
    "import numpy as np\n",
    "import seaborn as sns\n",
    "import matplotlib.pyplot as plt\n",
    "import warnings\n",
    "\n",
    "from scikitplot.metrics import plot_roc, plot_precision_recall\n",
    "from sklearn.datasets import make_classification, make_regression, make_gaussian_quantiles\n",
    "from sklearn.model_selection import train_test_split, GridSearchCV, KFold, cross_val_score\n",
    "from sklearn.tree import DecisionTreeClassifier, DecisionTreeRegressor\n",
    "from sklearn import svm\n",
    "from sklearn.ensemble import GradientBoostingRegressor, RandomForestRegressor, AdaBoostRegressor\n",
    "from sklearn.metrics import confusion_matrix, classification_report, plot_roc_curve\n",
    "from sklearn.metrics import roc_curve, auc, roc_auc_score, plot_precision_recall_curve\n",
    "from mlxtend.plotting import plot_decision_regions\n",
    "\n",
    "plt.style.use(\"seaborn-white\")\n",
    "warnings.filterwarnings('ignore')"
   ]
  },
  {
   "cell_type": "markdown",
   "metadata": {},
   "source": [
    "## Problem 1"
   ]
  },
  {
   "cell_type": "code",
   "execution_count": 2,
   "metadata": {},
   "outputs": [],
   "source": [
    "X, y = make_regression(n_samples = 1000, n_features = 7, n_informative = 3, random_state = 3, noise = 10)"
   ]
  },
  {
   "cell_type": "code",
   "execution_count": 3,
   "metadata": {},
   "outputs": [
    {
     "data": {
      "text/html": [
       "<div>\n",
       "<style scoped>\n",
       "    .dataframe tbody tr th:only-of-type {\n",
       "        vertical-align: middle;\n",
       "    }\n",
       "\n",
       "    .dataframe tbody tr th {\n",
       "        vertical-align: top;\n",
       "    }\n",
       "\n",
       "    .dataframe thead th {\n",
       "        text-align: right;\n",
       "    }\n",
       "</style>\n",
       "<table border=\"1\" class=\"dataframe\">\n",
       "  <thead>\n",
       "    <tr style=\"text-align: right;\">\n",
       "      <th></th>\n",
       "      <th>0</th>\n",
       "      <th>1</th>\n",
       "      <th>2</th>\n",
       "      <th>3</th>\n",
       "      <th>4</th>\n",
       "      <th>5</th>\n",
       "      <th>6</th>\n",
       "    </tr>\n",
       "  </thead>\n",
       "  <tbody>\n",
       "    <tr>\n",
       "      <th>0</th>\n",
       "      <td>-0.010125</td>\n",
       "      <td>1.291853</td>\n",
       "      <td>1.758626</td>\n",
       "      <td>-2.223449</td>\n",
       "      <td>0.991914</td>\n",
       "      <td>-0.409624</td>\n",
       "      <td>-3.141157</td>\n",
       "    </tr>\n",
       "    <tr>\n",
       "      <th>1</th>\n",
       "      <td>0.279601</td>\n",
       "      <td>-0.965618</td>\n",
       "      <td>1.121223</td>\n",
       "      <td>0.862815</td>\n",
       "      <td>-0.390397</td>\n",
       "      <td>0.593260</td>\n",
       "      <td>0.892228</td>\n",
       "    </tr>\n",
       "    <tr>\n",
       "      <th>2</th>\n",
       "      <td>-0.953116</td>\n",
       "      <td>1.313383</td>\n",
       "      <td>1.251949</td>\n",
       "      <td>2.027690</td>\n",
       "      <td>-0.550030</td>\n",
       "      <td>2.948011</td>\n",
       "      <td>-1.324454</td>\n",
       "    </tr>\n",
       "    <tr>\n",
       "      <th>3</th>\n",
       "      <td>-0.140892</td>\n",
       "      <td>-0.299505</td>\n",
       "      <td>-0.983228</td>\n",
       "      <td>-0.168850</td>\n",
       "      <td>-1.755609</td>\n",
       "      <td>-0.391789</td>\n",
       "      <td>-0.099545</td>\n",
       "    </tr>\n",
       "    <tr>\n",
       "      <th>4</th>\n",
       "      <td>1.301935</td>\n",
       "      <td>0.171544</td>\n",
       "      <td>-1.282844</td>\n",
       "      <td>-0.277904</td>\n",
       "      <td>0.094256</td>\n",
       "      <td>-2.599815</td>\n",
       "      <td>1.286200</td>\n",
       "    </tr>\n",
       "    <tr>\n",
       "      <th>...</th>\n",
       "      <td>...</td>\n",
       "      <td>...</td>\n",
       "      <td>...</td>\n",
       "      <td>...</td>\n",
       "      <td>...</td>\n",
       "      <td>...</td>\n",
       "      <td>...</td>\n",
       "    </tr>\n",
       "    <tr>\n",
       "      <th>995</th>\n",
       "      <td>0.596523</td>\n",
       "      <td>-0.623822</td>\n",
       "      <td>-0.142278</td>\n",
       "      <td>0.927580</td>\n",
       "      <td>-0.040959</td>\n",
       "      <td>0.114656</td>\n",
       "      <td>-1.783514</td>\n",
       "    </tr>\n",
       "    <tr>\n",
       "      <th>996</th>\n",
       "      <td>-0.217600</td>\n",
       "      <td>0.179742</td>\n",
       "      <td>1.565036</td>\n",
       "      <td>1.482646</td>\n",
       "      <td>-1.386873</td>\n",
       "      <td>2.470129</td>\n",
       "      <td>0.690391</td>\n",
       "    </tr>\n",
       "    <tr>\n",
       "      <th>997</th>\n",
       "      <td>-1.429305</td>\n",
       "      <td>1.288952</td>\n",
       "      <td>0.296132</td>\n",
       "      <td>-0.309001</td>\n",
       "      <td>0.223105</td>\n",
       "      <td>1.691968</td>\n",
       "      <td>0.247613</td>\n",
       "    </tr>\n",
       "    <tr>\n",
       "      <th>998</th>\n",
       "      <td>1.038952</td>\n",
       "      <td>0.694052</td>\n",
       "      <td>-0.140786</td>\n",
       "      <td>1.729417</td>\n",
       "      <td>-1.622461</td>\n",
       "      <td>-1.235637</td>\n",
       "      <td>0.631744</td>\n",
       "    </tr>\n",
       "    <tr>\n",
       "      <th>999</th>\n",
       "      <td>0.814818</td>\n",
       "      <td>0.351672</td>\n",
       "      <td>0.695620</td>\n",
       "      <td>-0.268691</td>\n",
       "      <td>1.123820</td>\n",
       "      <td>1.614589</td>\n",
       "      <td>-0.108824</td>\n",
       "    </tr>\n",
       "  </tbody>\n",
       "</table>\n",
       "<p>1000 rows × 7 columns</p>\n",
       "</div>"
      ],
      "text/plain": [
       "            0         1         2         3         4         5         6\n",
       "0   -0.010125  1.291853  1.758626 -2.223449  0.991914 -0.409624 -3.141157\n",
       "1    0.279601 -0.965618  1.121223  0.862815 -0.390397  0.593260  0.892228\n",
       "2   -0.953116  1.313383  1.251949  2.027690 -0.550030  2.948011 -1.324454\n",
       "3   -0.140892 -0.299505 -0.983228 -0.168850 -1.755609 -0.391789 -0.099545\n",
       "4    1.301935  0.171544 -1.282844 -0.277904  0.094256 -2.599815  1.286200\n",
       "..        ...       ...       ...       ...       ...       ...       ...\n",
       "995  0.596523 -0.623822 -0.142278  0.927580 -0.040959  0.114656 -1.783514\n",
       "996 -0.217600  0.179742  1.565036  1.482646 -1.386873  2.470129  0.690391\n",
       "997 -1.429305  1.288952  0.296132 -0.309001  0.223105  1.691968  0.247613\n",
       "998  1.038952  0.694052 -0.140786  1.729417 -1.622461 -1.235637  0.631744\n",
       "999  0.814818  0.351672  0.695620 -0.268691  1.123820  1.614589 -0.108824\n",
       "\n",
       "[1000 rows x 7 columns]"
      ]
     },
     "execution_count": 3,
     "metadata": {},
     "output_type": "execute_result"
    }
   ],
   "source": [
    "x = pd.DataFrame(X)\n",
    "x"
   ]
  },
  {
   "cell_type": "code",
   "execution_count": 4,
   "metadata": {},
   "outputs": [
    {
     "data": {
      "text/plain": [
       "((600, 7), (600,), (400, 7), (400,))"
      ]
     },
     "execution_count": 4,
     "metadata": {},
     "output_type": "execute_result"
    }
   ],
   "source": [
    "X_train, X_test, y_train, y_test = train_test_split(X, y, test_size = 0.4, random_state = 3)\n",
    "\n",
    "X_train.shape, y_train.shape, X_test.shape, y_test.shape"
   ]
  },
  {
   "cell_type": "code",
   "execution_count": 5,
   "metadata": {},
   "outputs": [
    {
     "name": "stdout",
     "output_type": "stream",
     "text": [
      "Best score: 0.8748716997928097\n",
      "Best parameter: {'max_leaf_nodes': 19}\n"
     ]
    }
   ],
   "source": [
    "tree_reg = DecisionTreeRegressor(random_state = 3)\n",
    "\n",
    "params = {\n",
    "    \"max_leaf_nodes\": np.arange(1,20)\n",
    "}\n",
    "\n",
    "tree_reg_cv = GridSearchCV(tree_reg, params, cv = 3, scoring = \"r2\")\n",
    "tree_reg_cv.fit(X_train, y_train)\n",
    "\n",
    "print(\"Best score:\", tree_reg_cv.best_score_)\n",
    "print(\"Best parameter:\", tree_reg_cv.best_params_)"
   ]
  },
  {
   "cell_type": "code",
   "execution_count": 6,
   "metadata": {},
   "outputs": [
    {
     "data": {
      "text/plain": [
       "DecisionTreeRegressor(ccp_alpha=0.0, criterion='mse', max_depth=None,\n",
       "                      max_features=None, max_leaf_nodes=19,\n",
       "                      min_impurity_decrease=0.0, min_impurity_split=None,\n",
       "                      min_samples_leaf=1, min_samples_split=2,\n",
       "                      min_weight_fraction_leaf=0.0, presort='deprecated',\n",
       "                      random_state=3, splitter='best')"
      ]
     },
     "execution_count": 6,
     "metadata": {},
     "output_type": "execute_result"
    }
   ],
   "source": [
    "Reg_A = DecisionTreeRegressor(random_state = 3, max_leaf_nodes = 19)\n",
    "Reg_A.fit(X_train, y_train)"
   ]
  },
  {
   "cell_type": "code",
   "execution_count": 7,
   "metadata": {},
   "outputs": [
    {
     "name": "stdout",
     "output_type": "stream",
     "text": [
      "Best score: 0.9612409584025041\n",
      "Best parameter: {'max_features': 7, 'n_estimators': 19}\n"
     ]
    }
   ],
   "source": [
    "forest_reg = RandomForestRegressor(random_state = 3)\n",
    "\n",
    "params = {\n",
    "    \"n_estimators\": np.arange(1,20),\n",
    "    \"max_features\": np.arange(1,20)\n",
    "}\n",
    "\n",
    "forest_reg_cv = GridSearchCV(forest_reg, params, cv = 3, scoring = \"r2\")\n",
    "forest_reg_cv.fit(X_train, y_train)\n",
    "\n",
    "print(\"Best score:\", forest_reg_cv.best_score_)\n",
    "print(\"Best parameter:\", forest_reg_cv.best_params_)"
   ]
  },
  {
   "cell_type": "code",
   "execution_count": 8,
   "metadata": {},
   "outputs": [
    {
     "data": {
      "text/plain": [
       "RandomForestRegressor(bootstrap=True, ccp_alpha=0.0, criterion='mse',\n",
       "                      max_depth=None, max_features=7, max_leaf_nodes=None,\n",
       "                      max_samples=None, min_impurity_decrease=0.0,\n",
       "                      min_impurity_split=None, min_samples_leaf=1,\n",
       "                      min_samples_split=2, min_weight_fraction_leaf=0.0,\n",
       "                      n_estimators=17, n_jobs=None, oob_score=False,\n",
       "                      random_state=3, verbose=0, warm_start=False)"
      ]
     },
     "execution_count": 8,
     "metadata": {},
     "output_type": "execute_result"
    }
   ],
   "source": [
    "Reg_B = RandomForestRegressor(random_state = 3, max_features = 7, n_estimators = 17)\n",
    "Reg_B.fit(X_train, y_train)"
   ]
  },
  {
   "cell_type": "code",
   "execution_count": 9,
   "metadata": {
    "scrolled": false
   },
   "outputs": [
    {
     "name": "stdout",
     "output_type": "stream",
     "text": [
      "Best score: 0.6544412507992443\n",
      "Best parameter: {'n_estimators': 17}\n"
     ]
    }
   ],
   "source": [
    "ada_reg = AdaBoostRegressor(DecisionTreeRegressor(max_depth = 1), random_state = 3)\n",
    "\n",
    "params = {\n",
    "    \"n_estimators\": np.arange(1,20)\n",
    "}\n",
    "\n",
    "ada_reg_cv = GridSearchCV(ada_reg, params, cv = 3, scoring = \"r2\")\n",
    "ada_reg_cv.fit(X_train, y_train)\n",
    "\n",
    "print(\"Best score:\", ada_reg_cv.best_score_)\n",
    "print(\"Best parameter:\", ada_reg_cv.best_params_)"
   ]
  },
  {
   "cell_type": "code",
   "execution_count": 10,
   "metadata": {},
   "outputs": [
    {
     "name": "stdout",
     "output_type": "stream",
     "text": [
      "Best score: 0.8129430565614971\n",
      "Best parameter: {'n_estimators': 19}\n"
     ]
    }
   ],
   "source": [
    "ada_reg2 = AdaBoostRegressor(DecisionTreeRegressor(max_depth = 2), random_state = 3)\n",
    "\n",
    "params = {\n",
    "    \"n_estimators\": np.arange(1,20)\n",
    "}\n",
    "\n",
    "ada_reg2_cv = GridSearchCV(ada_reg2, params, cv = 3, scoring = \"r2\")\n",
    "ada_reg2_cv.fit(X_train, y_train)\n",
    "\n",
    "print(\"Best score:\", ada_reg2_cv.best_score_)\n",
    "print(\"Best parameter:\", ada_reg2_cv.best_params_)"
   ]
  },
  {
   "cell_type": "code",
   "execution_count": 11,
   "metadata": {},
   "outputs": [
    {
     "name": "stdout",
     "output_type": "stream",
     "text": [
      "Best score: 0.8971139234071347\n",
      "Best parameter: {'n_estimators': 19}\n"
     ]
    }
   ],
   "source": [
    "ada_reg3 = AdaBoostRegressor(DecisionTreeRegressor(max_depth = 3), random_state = 3)\n",
    "\n",
    "params = {\n",
    "    \"n_estimators\": np.arange(1,20)\n",
    "}\n",
    "\n",
    "ada_reg3_cv = GridSearchCV(ada_reg3, params, cv = 3, scoring = \"r2\")\n",
    "ada_reg3_cv.fit(X_train, y_train)\n",
    "\n",
    "print(\"Best score:\", ada_reg3_cv.best_score_)\n",
    "print(\"Best parameter:\", ada_reg3_cv.best_params_)"
   ]
  },
  {
   "cell_type": "markdown",
   "metadata": {},
   "source": [
    "Best is with max_depth = 3 and n_estimators = 19"
   ]
  },
  {
   "cell_type": "code",
   "execution_count": 12,
   "metadata": {},
   "outputs": [
    {
     "data": {
      "text/plain": [
       "AdaBoostRegressor(base_estimator=DecisionTreeRegressor(ccp_alpha=0.0,\n",
       "                                                       criterion='mse',\n",
       "                                                       max_depth=3,\n",
       "                                                       max_features=None,\n",
       "                                                       max_leaf_nodes=None,\n",
       "                                                       min_impurity_decrease=0.0,\n",
       "                                                       min_impurity_split=None,\n",
       "                                                       min_samples_leaf=1,\n",
       "                                                       min_samples_split=2,\n",
       "                                                       min_weight_fraction_leaf=0.0,\n",
       "                                                       presort='deprecated',\n",
       "                                                       random_state=None,\n",
       "                                                       splitter='best'),\n",
       "                  learning_rate=1.0, loss='linear', n_estimators=19,\n",
       "                  random_state=3)"
      ]
     },
     "execution_count": 12,
     "metadata": {},
     "output_type": "execute_result"
    }
   ],
   "source": [
    "Reg_C = AdaBoostRegressor(DecisionTreeRegressor(max_depth = 3), random_state = 3, n_estimators = 19)\n",
    "Reg_C.fit(X_train, y_train)"
   ]
  },
  {
   "cell_type": "code",
   "execution_count": 13,
   "metadata": {},
   "outputs": [
    {
     "name": "stdout",
     "output_type": "stream",
     "text": [
      "Reg_A_score: 0.857508590138811\n",
      "Reg_B_score: 0.9648197619753897\n",
      "Reg_C_score: 0.8831256165520728\n",
      "Reg_A_score train: 0.9164563292459502\n",
      "Reg_B_score train: 0.9945256813013756\n",
      "Reg_C_score train: 0.9261837080951132\n"
     ]
    }
   ],
   "source": [
    "Reg_A_score = Reg_A.score(X_test, y_test)\n",
    "Reg_B_score = Reg_B.score(X_test, y_test)\n",
    "Reg_C_score = Reg_C.score(X_test, y_test)\n",
    "Reg_A_score_train = Reg_A.score(X_train, y_train)\n",
    "Reg_B_score_train = Reg_B.score(X_train, y_train)\n",
    "Reg_C_score_train = Reg_C.score(X_train, y_train)\n",
    "\n",
    "print(\"Reg_A_score:\", Reg_A_score)\n",
    "print(\"Reg_B_score:\", Reg_B_score)\n",
    "print(\"Reg_C_score:\", Reg_C_score)\n",
    "print(\"Reg_A_score train:\", Reg_A_score_train)\n",
    "print(\"Reg_B_score train:\", Reg_B_score_train)\n",
    "print(\"Reg_C_score train:\", Reg_C_score_train)"
   ]
  },
  {
   "cell_type": "markdown",
   "metadata": {},
   "source": [
    "RandomForestRegressor works the best on the dataset with score of 0.96. From the scores we can conclude that the models do not overfit the train data since train test scores are not significantly different."
   ]
  },
  {
   "cell_type": "markdown",
   "metadata": {},
   "source": [
    "## Problem 2"
   ]
  },
  {
   "cell_type": "code",
   "execution_count": 14,
   "metadata": {},
   "outputs": [],
   "source": [
    "X, y = make_gaussian_quantiles(n_samples = 1000, n_features = 12, n_classes = 2, random_state = 3)"
   ]
  },
  {
   "cell_type": "code",
   "execution_count": 15,
   "metadata": {},
   "outputs": [
    {
     "data": {
      "text/plain": [
       "((700, 12), (700,), (300, 12), (300,))"
      ]
     },
     "execution_count": 15,
     "metadata": {},
     "output_type": "execute_result"
    }
   ],
   "source": [
    "X_train, X_test, y_train, y_test = train_test_split(X, y, test_size = 0.3, random_state = 3)\n",
    "\n",
    "X_train.shape, y_train.shape, X_test.shape, y_test.shape"
   ]
  },
  {
   "cell_type": "code",
   "execution_count": 16,
   "metadata": {},
   "outputs": [
    {
     "name": "stdout",
     "output_type": "stream",
     "text": [
      "Best score: 0.9400119829304378\n",
      "Best parameter: {'C': 33.400000000000006, 'degree': 2}\n"
     ]
    }
   ],
   "source": [
    "svc_poly = svm.SVC(kernel = \"poly\", random_state = 3)\n",
    "\n",
    "params = {\n",
    "    \"C\": np.linspace(0.1, 100, 10),\n",
    "    \"degree\": np.arange(1, 4)\n",
    "}\n",
    "\n",
    "svc_poly_cv = GridSearchCV(svc_poly, params, cv = 3, scoring = \"accuracy\")\n",
    "svc_poly_cv.fit(X_train, y_train)\n",
    "\n",
    "print(\"Best score:\", svc_poly_cv.best_score_)\n",
    "print(\"Best parameter:\", svc_poly_cv.best_params_)"
   ]
  },
  {
   "cell_type": "code",
   "execution_count": 17,
   "metadata": {},
   "outputs": [
    {
     "data": {
      "text/plain": [
       "SVC(C=33.400000000000006, break_ties=False, cache_size=200, class_weight=None,\n",
       "    coef0=0.0, decision_function_shape='ovr', degree=2, gamma='scale',\n",
       "    kernel='poly', max_iter=-1, probability=True, random_state=3,\n",
       "    shrinking=True, tol=0.001, verbose=False)"
      ]
     },
     "execution_count": 17,
     "metadata": {},
     "output_type": "execute_result"
    }
   ],
   "source": [
    "Class_A = svm.SVC(kernel = \"poly\", random_state = 3, degree = 2, C = 33.400000000000006, probability=True)\n",
    "Class_A.fit(X_train, y_train)"
   ]
  },
  {
   "cell_type": "code",
   "execution_count": 18,
   "metadata": {},
   "outputs": [
    {
     "name": "stdout",
     "output_type": "stream",
     "text": [
      "Best score: 0.9371507526013964\n",
      "Best parameter: {'C': 66.7, 'gamma': 0.0203}\n"
     ]
    }
   ],
   "source": [
    "svc_rbf = svm.SVC(kernel = \"rbf\", random_state = 3)\n",
    "\n",
    "params = {\n",
    "    \"C\": np.linspace(0.1, 100, 10),\n",
    "    \"gamma\": np.linspace(0.0001, 1, 100)\n",
    "}\n",
    "\n",
    "svc_rbf_cv = GridSearchCV(svc_rbf, params, cv = 3, scoring = \"accuracy\")\n",
    "svc_rbf_cv.fit(X_train, y_train)\n",
    "\n",
    "print(\"Best score:\", svc_rbf_cv.best_score_)\n",
    "print(\"Best parameter:\", svc_rbf_cv.best_params_)"
   ]
  },
  {
   "cell_type": "code",
   "execution_count": 19,
   "metadata": {},
   "outputs": [
    {
     "data": {
      "text/plain": [
       "SVC(C=66.7, break_ties=False, cache_size=200, class_weight=None, coef0=0.0,\n",
       "    decision_function_shape='ovr', degree=3, gamma=0.0203, kernel='rbf',\n",
       "    max_iter=-1, probability=True, random_state=3, shrinking=True, tol=0.001,\n",
       "    verbose=False)"
      ]
     },
     "execution_count": 19,
     "metadata": {},
     "output_type": "execute_result"
    }
   ],
   "source": [
    "Class_B = svm.SVC(kernel = \"rbf\", random_state = 3, C = 66.7, gamma = 0.0203, probability=True)\n",
    "Class_B.fit(X_train, y_train)"
   ]
  },
  {
   "cell_type": "code",
   "execution_count": 20,
   "metadata": {},
   "outputs": [
    {
     "name": "stdout",
     "output_type": "stream",
     "text": [
      "Class_A test score: 0.95\n",
      "Class_B test score: 0.9466666666666667\n"
     ]
    }
   ],
   "source": [
    "Class_A_score_test = Class_A.score(X_test, y_test)\n",
    "Class_B_score_test = Class_B.score(X_test, y_test)\n",
    "\n",
    "print(\"Class_A test score:\", Class_A_score_test)\n",
    "print(\"Class_B test score:\", Class_B_score_test)"
   ]
  },
  {
   "cell_type": "markdown",
   "metadata": {},
   "source": [
    "Above we can see that \"rbf\" kernel has the best score, hence Class_B model works the best in terms of accuracy scores."
   ]
  },
  {
   "cell_type": "code",
   "execution_count": 21,
   "metadata": {},
   "outputs": [
    {
     "data": {
      "image/png": "[encoded data removed]",
      "text/plain": [
       "<Figure size 720x504 with 1 Axes>"
      ]
     },
     "metadata": {},
     "output_type": "display_data"
    }
   ],
   "source": [
    "fig = plt.figure(figsize = (10, 7))\n",
    "ax = plt.gca()\n",
    "poly_disp = plot_roc_curve(Class_A, X_test, y_test, ax = ax, name = \"SVC Poly\")\n",
    "rbf_disp = plot_roc_curve(Class_B, X_test, y_test, ax = ax, name = \"SVC Rbf\")\n",
    "plt.show()"
   ]
  },
  {
   "cell_type": "markdown",
   "metadata": {},
   "source": [
    "From the ROC curve we can see that the models work almost the same, since they have almost equal AUCs."
   ]
  },
  {
   "cell_type": "code",
   "execution_count": 22,
   "metadata": {},
   "outputs": [
    {
     "data": {
      "image/png": "[encoded data removed]",
      "text/plain": [
       "<Figure size 576x504 with 1 Axes>"
      ]
     },
     "metadata": {},
     "output_type": "display_data"
    }
   ],
   "source": [
    "poly_proba = Class_A.predict_proba(X_test)\n",
    "rbf_proba = Class_B.predict_proba(X_test)\n",
    "\n",
    "plot_precision_recall(y_test, poly_proba,\n",
    "                      figsize = (8, 7),\n",
    "                      title_fontsize = 20,\n",
    "                      text_fontsize = 14,\n",
    "                      plot_micro = False,\n",
    "                      title = \"SVC Poly PR\")\n",
    "plt.show()"
   ]
  },
  {
   "cell_type": "code",
   "execution_count": 23,
   "metadata": {},
   "outputs": [
    {
     "data": {
      "image/png": "[encoded data removed]",
      "text/plain": [
       "<Figure size 576x504 with 1 Axes>"
      ]
     },
     "metadata": {},
     "output_type": "display_data"
    }
   ],
   "source": [
    "plot_precision_recall(y_test, rbf_proba, figsize = (8, 7),\n",
    "                      title_fontsize = 20,\n",
    "                      text_fontsize = 14,\n",
    "                      plot_micro = False,\n",
    "                      title = \"SVC rbf PR\")\n",
    "plt.show()"
   ]
  },
  {
   "cell_type": "markdown",
   "metadata": {},
   "source": [
    "From the PR curves we can see that the Class_B model has the best values for AUCPR, 0.994 for 0 class and 0.995 for 1 class. Comparing with the Class_A AUCPRs, 0.991 for class 0 and 0.993 for class 1 we can see that Class_B does the best job."
   ]
  },
  {
   "cell_type": "code",
   "execution_count": 24,
   "metadata": {},
   "outputs": [
    {
     "name": "stdout",
     "output_type": "stream",
     "text": [
      "Class_A_score: 0.95\n",
      "Class_B_score: 0.9466666666666667\n",
      "Class_A_score train: 0.9914285714285714\n",
      "Class_B_score train: 0.9985714285714286\n"
     ]
    }
   ],
   "source": [
    "Class_A_score = Class_A.score(X_test, y_test)\n",
    "Class_B_score = Class_B.score(X_test, y_test)\n",
    "Class_A_score_train = Class_A.score(X_train, y_train)\n",
    "Class_B_score_train = Class_B.score(X_train, y_train)\n",
    "\n",
    "print(\"Class_A_score:\", Class_A_score)\n",
    "print(\"Class_B_score:\", Class_B_score)\n",
    "print(\"Class_A_score train:\", Class_A_score_train)\n",
    "print(\"Class_B_score train:\", Class_B_score_train)"
   ]
  },
  {
   "cell_type": "markdown",
   "metadata": {},
   "source": [
    "From above we can see that there is not any big difference between train and test scores for both models, hence the models do not overfit the train data.\n",
    "\n",
    "Overall, Class_B model performs the best on the data."
   ]
  }
 ],
 "metadata": {
  "kernelspec": {
   "display_name": "Python 3",
   "language": "python",
   "name": "python3"
  },
  "language_info": {
   "codemirror_mode": {
    "name": "ipython",
    "version": 3
   },
   "file_extension": ".py",
   "mimetype": "text/x-python",
   "name": "python",
   "nbconvert_exporter": "python",
   "pygments_lexer": "ipython3",
   "version": "3.7.6"
  },
  "toc": {
   "base_numbering": 1,
   "nav_menu": {},
   "number_sections": true,
   "sideBar": true,
   "skip_h1_title": false,
   "title_cell": "Table of Contents",
   "title_sidebar": "Contents",
   "toc_cell": false,
   "toc_position": {},
   "toc_section_display": true,
   "toc_window_display": false
  }
 },
 "nbformat": 4,
 "nbformat_minor": 4
}
